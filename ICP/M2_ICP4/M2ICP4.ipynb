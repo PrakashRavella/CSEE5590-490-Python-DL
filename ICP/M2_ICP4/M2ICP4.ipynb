{
 "cells": [
  {
   "cell_type": "code",
   "execution_count": 1,
   "metadata": {},
   "outputs": [
    {
     "name": "stderr",
     "output_type": "stream",
     "text": [
      "Using TensorFlow backend.\n"
     ]
    }
   ],
   "source": [
    "from keras.models import Sequential\n",
    "from keras.layers import Dense\n",
    "from keras.layers import Dropout\n",
    "from keras.layers import Flatten\n",
    "from keras.constraints import maxnorm\n",
    "from keras.optimizers import SGD\n",
    "from keras.layers.convolutional import Conv2D\n",
    "from keras.layers.convolutional import MaxPooling2D\n",
    "from keras.utils import np_utils\n",
    "from keras import backend as K\n",
    "K.set_image_dim_ordering('th')"
   ]
  },
  {
   "cell_type": "code",
   "execution_count": 3,
   "metadata": {},
   "outputs": [],
   "source": [
    "import numpy\n",
    "# fix random seed for reproducibility\n",
    "seed = 7\n",
    "numpy.random.seed(seed)"
   ]
  },
  {
   "cell_type": "code",
   "execution_count": 23,
   "metadata": {},
   "outputs": [],
   "source": [
    "from keras.datasets import cifar10\n",
    "# load data\n",
    "(X_train, y_train), (X_test, y_test) = cifar10.load_data()\n",
    "Xnew = X_test[:4]/ 255.0"
   ]
  },
  {
   "cell_type": "code",
   "execution_count": 8,
   "metadata": {},
   "outputs": [],
   "source": [
    "# normalize inputs from 0-255 to 0.0-1.0\n",
    "X_train = X_train.astype('float32')\n",
    "X_test = X_test.astype('float32')\n",
    "X_train = X_train / 255.0\n",
    "X_test = X_test / 255.0"
   ]
  },
  {
   "cell_type": "code",
   "execution_count": 9,
   "metadata": {},
   "outputs": [],
   "source": [
    "# one hot encode outputs\n",
    "y_train = np_utils.to_categorical(y_train)\n",
    "y_test = np_utils.to_categorical(y_test)\n",
    "num_classes = y_test.shape[1]"
   ]
  },
  {
   "cell_type": "code",
   "execution_count": 10,
   "metadata": {},
   "outputs": [
    {
     "name": "stdout",
     "output_type": "stream",
     "text": [
      "WARNING:tensorflow:From C:\\Users\\chand\\Anaconda3\\lib\\site-packages\\tensorflow\\python\\framework\\op_def_library.py:263: colocate_with (from tensorflow.python.framework.ops) is deprecated and will be removed in a future version.\n",
      "Instructions for updating:\n",
      "Colocations handled automatically by placer.\n",
      "WARNING:tensorflow:From C:\\Users\\chand\\Anaconda3\\lib\\site-packages\\keras\\backend\\tensorflow_backend.py:3445: calling dropout (from tensorflow.python.ops.nn_ops) with keep_prob is deprecated and will be removed in a future version.\n",
      "Instructions for updating:\n",
      "Please use `rate` instead of `keep_prob`. Rate should be set to `rate = 1 - keep_prob`.\n"
     ]
    }
   ],
   "source": [
    "# Create the model\n",
    "model = Sequential()\n",
    "model.add(Conv2D(32, (3, 3), input_shape=(3, 32, 32), padding='same', activation='relu', kernel_constraint=maxnorm(3)))\n",
    "model.add(Dropout(0.2))\n",
    "model.add(Conv2D(32, (3, 3), activation='relu', padding='same', kernel_constraint=maxnorm(3)))\n",
    "model.add(MaxPooling2D(pool_size=(2, 2)))\n",
    "model.add(Flatten())\n",
    "model.add(Dense(512, activation='relu', kernel_constraint=maxnorm(3)))\n",
    "model.add(Dropout(0.5))\n",
    "model.add(Dense(num_classes, activation='softmax'))"
   ]
  },
  {
   "cell_type": "code",
   "execution_count": 17,
   "metadata": {},
   "outputs": [
    {
     "name": "stdout",
     "output_type": "stream",
     "text": [
      "_________________________________________________________________\n",
      "Layer (type)                 Output Shape              Param #   \n",
      "=================================================================\n",
      "conv2d_1 (Conv2D)            (None, 32, 32, 32)        896       \n",
      "_________________________________________________________________\n",
      "dropout_1 (Dropout)          (None, 32, 32, 32)        0         \n",
      "_________________________________________________________________\n",
      "conv2d_2 (Conv2D)            (None, 32, 32, 32)        9248      \n",
      "_________________________________________________________________\n",
      "max_pooling2d_1 (MaxPooling2 (None, 32, 16, 16)        0         \n",
      "_________________________________________________________________\n",
      "flatten_1 (Flatten)          (None, 8192)              0         \n",
      "_________________________________________________________________\n",
      "dense_1 (Dense)              (None, 512)               4194816   \n",
      "_________________________________________________________________\n",
      "dropout_2 (Dropout)          (None, 512)               0         \n",
      "_________________________________________________________________\n",
      "dense_2 (Dense)              (None, 10)                5130      \n",
      "=================================================================\n",
      "Total params: 4,210,090\n",
      "Trainable params: 4,210,090\n",
      "Non-trainable params: 0\n",
      "_________________________________________________________________\n",
      "None\n"
     ]
    }
   ],
   "source": [
    "# Compile model\n",
    "epochs = 4\n",
    "lrate = 0.01\n",
    "decay = lrate/epochs\n",
    "sgd = SGD(lr=lrate, momentum=0.9, decay=decay, nesterov=False)\n",
    "model.compile(loss='categorical_crossentropy', optimizer=sgd, metrics=['accuracy'])\n",
    "print(model.summary())"
   ]
  },
  {
   "cell_type": "code",
   "execution_count": 12,
   "metadata": {},
   "outputs": [
    {
     "name": "stdout",
     "output_type": "stream",
     "text": [
      "WARNING:tensorflow:From C:\\Users\\chand\\Anaconda3\\lib\\site-packages\\tensorflow\\python\\ops\\math_ops.py:3066: to_int32 (from tensorflow.python.ops.math_ops) is deprecated and will be removed in a future version.\n",
      "Instructions for updating:\n",
      "Use tf.cast instead.\n",
      "Train on 50000 samples, validate on 10000 samples\n",
      "Epoch 1/25\n",
      "50000/50000 [==============================] - 245s 5ms/step - loss: 1.7045 - acc: 0.3849 - val_loss: 1.3625 - val_acc: 0.5081\n",
      "Epoch 2/25\n",
      "50000/50000 [==============================] - 242s 5ms/step - loss: 1.3231 - acc: 0.5237 - val_loss: 1.1914 - val_acc: 0.5884\n",
      "Epoch 3/25\n",
      "50000/50000 [==============================] - 243s 5ms/step - loss: 1.1472 - acc: 0.5916 - val_loss: 1.0829 - val_acc: 0.6165\n",
      "Epoch 4/25\n",
      "50000/50000 [==============================] - 242s 5ms/step - loss: 1.0165 - acc: 0.6391 - val_loss: 1.0073 - val_acc: 0.6477\n",
      "Epoch 5/25\n",
      "50000/50000 [==============================] - 242s 5ms/step - loss: 0.9137 - acc: 0.6772 - val_loss: 0.9814 - val_acc: 0.6560\n",
      "Epoch 6/25\n",
      " 1760/50000 [>.............................] - ETA: 3:47 - loss: 0.8131 - acc: 0.7080"
     ]
    },
    {
     "ename": "KeyboardInterrupt",
     "evalue": "",
     "output_type": "error",
     "traceback": [
      "\u001b[1;31m---------------------------------------------------------------------------\u001b[0m",
      "\u001b[1;31mKeyboardInterrupt\u001b[0m                         Traceback (most recent call last)",
      "\u001b[1;32m<ipython-input-12-abb3aae252ff>\u001b[0m in \u001b[0;36m<module>\u001b[1;34m()\u001b[0m\n\u001b[0;32m      1\u001b[0m \u001b[1;31m# Fit the model\u001b[0m\u001b[1;33m\u001b[0m\u001b[1;33m\u001b[0m\u001b[0m\n\u001b[1;32m----> 2\u001b[1;33m \u001b[0mmodel\u001b[0m\u001b[1;33m.\u001b[0m\u001b[0mfit\u001b[0m\u001b[1;33m(\u001b[0m\u001b[0mX_train\u001b[0m\u001b[1;33m,\u001b[0m \u001b[0my_train\u001b[0m\u001b[1;33m,\u001b[0m \u001b[0mvalidation_data\u001b[0m\u001b[1;33m=\u001b[0m\u001b[1;33m(\u001b[0m\u001b[0mX_test\u001b[0m\u001b[1;33m,\u001b[0m \u001b[0my_test\u001b[0m\u001b[1;33m)\u001b[0m\u001b[1;33m,\u001b[0m \u001b[0mepochs\u001b[0m\u001b[1;33m=\u001b[0m\u001b[0mepochs\u001b[0m\u001b[1;33m,\u001b[0m \u001b[0mbatch_size\u001b[0m\u001b[1;33m=\u001b[0m\u001b[1;36m32\u001b[0m\u001b[1;33m)\u001b[0m\u001b[1;33m\u001b[0m\u001b[0m\n\u001b[0m",
      "\u001b[1;32m~\\Anaconda3\\lib\\site-packages\\keras\\engine\\training.py\u001b[0m in \u001b[0;36mfit\u001b[1;34m(self, x, y, batch_size, epochs, verbose, callbacks, validation_split, validation_data, shuffle, class_weight, sample_weight, initial_epoch, steps_per_epoch, validation_steps, **kwargs)\u001b[0m\n\u001b[0;32m   1037\u001b[0m                                         \u001b[0minitial_epoch\u001b[0m\u001b[1;33m=\u001b[0m\u001b[0minitial_epoch\u001b[0m\u001b[1;33m,\u001b[0m\u001b[1;33m\u001b[0m\u001b[0m\n\u001b[0;32m   1038\u001b[0m                                         \u001b[0msteps_per_epoch\u001b[0m\u001b[1;33m=\u001b[0m\u001b[0msteps_per_epoch\u001b[0m\u001b[1;33m,\u001b[0m\u001b[1;33m\u001b[0m\u001b[0m\n\u001b[1;32m-> 1039\u001b[1;33m                                         validation_steps=validation_steps)\n\u001b[0m\u001b[0;32m   1040\u001b[0m \u001b[1;33m\u001b[0m\u001b[0m\n\u001b[0;32m   1041\u001b[0m     def evaluate(self, x=None, y=None,\n",
      "\u001b[1;32m~\\Anaconda3\\lib\\site-packages\\keras\\engine\\training_arrays.py\u001b[0m in \u001b[0;36mfit_loop\u001b[1;34m(model, f, ins, out_labels, batch_size, epochs, verbose, callbacks, val_f, val_ins, shuffle, callback_metrics, initial_epoch, steps_per_epoch, validation_steps)\u001b[0m\n\u001b[0;32m    197\u001b[0m                     \u001b[0mins_batch\u001b[0m\u001b[1;33m[\u001b[0m\u001b[0mi\u001b[0m\u001b[1;33m]\u001b[0m \u001b[1;33m=\u001b[0m \u001b[0mins_batch\u001b[0m\u001b[1;33m[\u001b[0m\u001b[0mi\u001b[0m\u001b[1;33m]\u001b[0m\u001b[1;33m.\u001b[0m\u001b[0mtoarray\u001b[0m\u001b[1;33m(\u001b[0m\u001b[1;33m)\u001b[0m\u001b[1;33m\u001b[0m\u001b[0m\n\u001b[0;32m    198\u001b[0m \u001b[1;33m\u001b[0m\u001b[0m\n\u001b[1;32m--> 199\u001b[1;33m                 \u001b[0mouts\u001b[0m \u001b[1;33m=\u001b[0m \u001b[0mf\u001b[0m\u001b[1;33m(\u001b[0m\u001b[0mins_batch\u001b[0m\u001b[1;33m)\u001b[0m\u001b[1;33m\u001b[0m\u001b[0m\n\u001b[0m\u001b[0;32m    200\u001b[0m                 \u001b[0mouts\u001b[0m \u001b[1;33m=\u001b[0m \u001b[0mto_list\u001b[0m\u001b[1;33m(\u001b[0m\u001b[0mouts\u001b[0m\u001b[1;33m)\u001b[0m\u001b[1;33m\u001b[0m\u001b[0m\n\u001b[0;32m    201\u001b[0m                 \u001b[1;32mfor\u001b[0m \u001b[0ml\u001b[0m\u001b[1;33m,\u001b[0m \u001b[0mo\u001b[0m \u001b[1;32min\u001b[0m \u001b[0mzip\u001b[0m\u001b[1;33m(\u001b[0m\u001b[0mout_labels\u001b[0m\u001b[1;33m,\u001b[0m \u001b[0mouts\u001b[0m\u001b[1;33m)\u001b[0m\u001b[1;33m:\u001b[0m\u001b[1;33m\u001b[0m\u001b[0m\n",
      "\u001b[1;32m~\\Anaconda3\\lib\\site-packages\\keras\\backend\\tensorflow_backend.py\u001b[0m in \u001b[0;36m__call__\u001b[1;34m(self, inputs)\u001b[0m\n\u001b[0;32m   2713\u001b[0m                 \u001b[1;32mreturn\u001b[0m \u001b[0mself\u001b[0m\u001b[1;33m.\u001b[0m\u001b[0m_legacy_call\u001b[0m\u001b[1;33m(\u001b[0m\u001b[0minputs\u001b[0m\u001b[1;33m)\u001b[0m\u001b[1;33m\u001b[0m\u001b[0m\n\u001b[0;32m   2714\u001b[0m \u001b[1;33m\u001b[0m\u001b[0m\n\u001b[1;32m-> 2715\u001b[1;33m             \u001b[1;32mreturn\u001b[0m \u001b[0mself\u001b[0m\u001b[1;33m.\u001b[0m\u001b[0m_call\u001b[0m\u001b[1;33m(\u001b[0m\u001b[0minputs\u001b[0m\u001b[1;33m)\u001b[0m\u001b[1;33m\u001b[0m\u001b[0m\n\u001b[0m\u001b[0;32m   2716\u001b[0m         \u001b[1;32melse\u001b[0m\u001b[1;33m:\u001b[0m\u001b[1;33m\u001b[0m\u001b[0m\n\u001b[0;32m   2717\u001b[0m             \u001b[1;32mif\u001b[0m \u001b[0mpy_any\u001b[0m\u001b[1;33m(\u001b[0m\u001b[0mis_tensor\u001b[0m\u001b[1;33m(\u001b[0m\u001b[0mx\u001b[0m\u001b[1;33m)\u001b[0m \u001b[1;32mfor\u001b[0m \u001b[0mx\u001b[0m \u001b[1;32min\u001b[0m \u001b[0minputs\u001b[0m\u001b[1;33m)\u001b[0m\u001b[1;33m:\u001b[0m\u001b[1;33m\u001b[0m\u001b[0m\n",
      "\u001b[1;32m~\\Anaconda3\\lib\\site-packages\\keras\\backend\\tensorflow_backend.py\u001b[0m in \u001b[0;36m_call\u001b[1;34m(self, inputs)\u001b[0m\n\u001b[0;32m   2673\u001b[0m             \u001b[0mfetched\u001b[0m \u001b[1;33m=\u001b[0m \u001b[0mself\u001b[0m\u001b[1;33m.\u001b[0m\u001b[0m_callable_fn\u001b[0m\u001b[1;33m(\u001b[0m\u001b[1;33m*\u001b[0m\u001b[0marray_vals\u001b[0m\u001b[1;33m,\u001b[0m \u001b[0mrun_metadata\u001b[0m\u001b[1;33m=\u001b[0m\u001b[0mself\u001b[0m\u001b[1;33m.\u001b[0m\u001b[0mrun_metadata\u001b[0m\u001b[1;33m)\u001b[0m\u001b[1;33m\u001b[0m\u001b[0m\n\u001b[0;32m   2674\u001b[0m         \u001b[1;32melse\u001b[0m\u001b[1;33m:\u001b[0m\u001b[1;33m\u001b[0m\u001b[0m\n\u001b[1;32m-> 2675\u001b[1;33m             \u001b[0mfetched\u001b[0m \u001b[1;33m=\u001b[0m \u001b[0mself\u001b[0m\u001b[1;33m.\u001b[0m\u001b[0m_callable_fn\u001b[0m\u001b[1;33m(\u001b[0m\u001b[1;33m*\u001b[0m\u001b[0marray_vals\u001b[0m\u001b[1;33m)\u001b[0m\u001b[1;33m\u001b[0m\u001b[0m\n\u001b[0m\u001b[0;32m   2676\u001b[0m         \u001b[1;32mreturn\u001b[0m \u001b[0mfetched\u001b[0m\u001b[1;33m[\u001b[0m\u001b[1;33m:\u001b[0m\u001b[0mlen\u001b[0m\u001b[1;33m(\u001b[0m\u001b[0mself\u001b[0m\u001b[1;33m.\u001b[0m\u001b[0moutputs\u001b[0m\u001b[1;33m)\u001b[0m\u001b[1;33m]\u001b[0m\u001b[1;33m\u001b[0m\u001b[0m\n\u001b[0;32m   2677\u001b[0m \u001b[1;33m\u001b[0m\u001b[0m\n",
      "\u001b[1;32m~\\Anaconda3\\lib\\site-packages\\tensorflow\\python\\client\\session.py\u001b[0m in \u001b[0;36m__call__\u001b[1;34m(self, *args, **kwargs)\u001b[0m\n\u001b[0;32m   1437\u001b[0m           ret = tf_session.TF_SessionRunCallable(\n\u001b[0;32m   1438\u001b[0m               \u001b[0mself\u001b[0m\u001b[1;33m.\u001b[0m\u001b[0m_session\u001b[0m\u001b[1;33m.\u001b[0m\u001b[0m_session\u001b[0m\u001b[1;33m,\u001b[0m \u001b[0mself\u001b[0m\u001b[1;33m.\u001b[0m\u001b[0m_handle\u001b[0m\u001b[1;33m,\u001b[0m \u001b[0margs\u001b[0m\u001b[1;33m,\u001b[0m \u001b[0mstatus\u001b[0m\u001b[1;33m,\u001b[0m\u001b[1;33m\u001b[0m\u001b[0m\n\u001b[1;32m-> 1439\u001b[1;33m               run_metadata_ptr)\n\u001b[0m\u001b[0;32m   1440\u001b[0m         \u001b[1;32mif\u001b[0m \u001b[0mrun_metadata\u001b[0m\u001b[1;33m:\u001b[0m\u001b[1;33m\u001b[0m\u001b[0m\n\u001b[0;32m   1441\u001b[0m           \u001b[0mproto_data\u001b[0m \u001b[1;33m=\u001b[0m \u001b[0mtf_session\u001b[0m\u001b[1;33m.\u001b[0m\u001b[0mTF_GetBuffer\u001b[0m\u001b[1;33m(\u001b[0m\u001b[0mrun_metadata_ptr\u001b[0m\u001b[1;33m)\u001b[0m\u001b[1;33m\u001b[0m\u001b[0m\n",
      "\u001b[1;31mKeyboardInterrupt\u001b[0m: "
     ]
    }
   ],
   "source": [
    "# Fit the model\n",
    "model.fit(X_train, y_train, validation_data=(X_test, y_test), epochs=epochs, batch_size=32)"
   ]
  },
  {
   "cell_type": "code",
   "execution_count": 13,
   "metadata": {},
   "outputs": [
    {
     "name": "stdout",
     "output_type": "stream",
     "text": [
      "Accuracy: 66.30%\n"
     ]
    }
   ],
   "source": [
    "# Final evaluation of the model\n",
    "scores = model.evaluate(X_test, y_test, verbose=0)\n",
    "print(\"Accuracy: %.2f%%\" % (scores[1]*100))"
   ]
  },
  {
   "cell_type": "code",
   "execution_count": 18,
   "metadata": {},
   "outputs": [
    {
     "name": "stdout",
     "output_type": "stream",
     "text": [
      "Train on 50000 samples, validate on 10000 samples\n",
      "Epoch 1/4\n",
      "50000/50000 [==============================] - 252s 5ms/step - loss: 0.8839 - acc: 0.6858 - val_loss: 0.9301 - val_acc: 0.6769\n",
      "Epoch 2/4\n",
      "50000/50000 [==============================] - 255s 5ms/step - loss: 0.6979 - acc: 0.7554 - val_loss: 0.8909 - val_acc: 0.6892\n",
      "Epoch 3/4\n",
      "50000/50000 [==============================] - 262s 5ms/step - loss: 0.6235 - acc: 0.7829 - val_loss: 0.8952 - val_acc: 0.6919\n",
      "Epoch 4/4\n",
      "50000/50000 [==============================] - 257s 5ms/step - loss: 0.5765 - acc: 0.7983 - val_loss: 0.8941 - val_acc: 0.6981\n"
     ]
    },
    {
     "data": {
      "text/plain": [
       "<keras.callbacks.History at 0x1f68dde3c88>"
      ]
     },
     "execution_count": 18,
     "metadata": {},
     "output_type": "execute_result"
    }
   ],
   "source": [
    "import keras\n",
    "tbCallBack= keras.callbacks.TensorBoard(log_dir='./Graph', histogram_freq = 0,write_graph=True, write_images=True) \n",
    "#model.fit(...inputs andparameters..., callbacks=[tbCallBack])\n",
    "# Fit the model\n",
    "model.fit(X_train, y_train, validation_data=(X_test, y_test), epochs=epochs, batch_size=32, callbacks=[tbCallBack])"
   ]
  },
  {
   "cell_type": "code",
   "execution_count": 24,
   "metadata": {},
   "outputs": [
    {
     "name": "stdout",
     "output_type": "stream",
     "text": [
      "X=[[[0.61960784 0.62352941 0.64705882 ... 0.5372549  0.49411765 0.45490196]\n",
      "  [0.59607843 0.59215686 0.62352941 ... 0.53333333 0.49019608 0.46666667]\n",
      "  [0.59215686 0.59215686 0.61960784 ... 0.54509804 0.50980392 0.47058824]\n",
      "  ...\n",
      "  [0.26666667 0.16470588 0.12156863 ... 0.14901961 0.05098039 0.15686275]\n",
      "  [0.23921569 0.19215686 0.1372549  ... 0.10196078 0.11372549 0.07843137]\n",
      "  [0.21176471 0.21960784 0.17647059 ... 0.09411765 0.13333333 0.08235294]]\n",
      "\n",
      " [[0.43921569 0.43529412 0.45490196 ... 0.37254902 0.35686275 0.33333333]\n",
      "  [0.43921569 0.43137255 0.44705882 ... 0.37254902 0.35686275 0.34509804]\n",
      "  [0.43137255 0.42745098 0.43529412 ... 0.38431373 0.37254902 0.34901961]\n",
      "  ...\n",
      "  [0.48627451 0.39215686 0.34509804 ... 0.38039216 0.25098039 0.33333333]\n",
      "  [0.45490196 0.4        0.33333333 ... 0.32156863 0.32156863 0.25098039]\n",
      "  [0.41960784 0.41176471 0.34901961 ... 0.30196078 0.32941176 0.2627451 ]]\n",
      "\n",
      " [[0.19215686 0.18431373 0.2        ... 0.14117647 0.14117647 0.12941176]\n",
      "  [0.2        0.15686275 0.17647059 ... 0.12156863 0.1254902  0.13333333]\n",
      "  [0.18431373 0.12941176 0.14117647 ... 0.13333333 0.13333333 0.12941176]\n",
      "  ...\n",
      "  [0.69411765 0.58039216 0.5372549  ... 0.57254902 0.42352941 0.49803922]\n",
      "  [0.65882353 0.58039216 0.51764706 ... 0.50980392 0.49411765 0.41960784]\n",
      "  [0.62745098 0.58431373 0.51764706 ... 0.48627451 0.50588235 0.43137255]]], Predicted=[2.9268078e-04 7.5941971e-05 9.2814825e-03 5.2503234e-01 2.2965921e-03\n",
      " 4.3992060e-01 1.9226436e-02 2.0305554e-03 1.5637398e-03 2.7962666e-04]\n",
      "X=[[[0.92156863 0.90588235 0.90980392 ... 0.91372549 0.91372549 0.90980392]\n",
      "  [0.93333333 0.92156863 0.92156863 ... 0.9254902  0.9254902  0.92156863]\n",
      "  [0.92941176 0.91764706 0.91764706 ... 0.92156863 0.92156863 0.91764706]\n",
      "  ...\n",
      "  [0.34117647 0.16862745 0.0745098  ... 0.6627451  0.71372549 0.7372549 ]\n",
      "  [0.32156863 0.18039216 0.14117647 ... 0.68235294 0.7254902  0.73333333]\n",
      "  [0.33333333 0.24313725 0.22745098 ... 0.65882353 0.70588235 0.72941176]]\n",
      "\n",
      " [[0.92156863 0.90588235 0.90980392 ... 0.91372549 0.91372549 0.90980392]\n",
      "  [0.93333333 0.92156863 0.92156863 ... 0.9254902  0.9254902  0.92156863]\n",
      "  [0.92941176 0.91764706 0.91764706 ... 0.92156863 0.92156863 0.91764706]\n",
      "  ...\n",
      "  [0.38823529 0.2        0.09019608 ... 0.72156863 0.77254902 0.79215686]\n",
      "  [0.37647059 0.22352941 0.17254902 ... 0.74117647 0.78431373 0.79215686]\n",
      "  [0.39607843 0.29411765 0.2627451  ... 0.71764706 0.76470588 0.78431373]]\n",
      "\n",
      " [[0.92156863 0.90588235 0.90980392 ... 0.91372549 0.91372549 0.90980392]\n",
      "  [0.93333333 0.92156863 0.92156863 ... 0.9254902  0.9254902  0.92156863]\n",
      "  [0.92941176 0.91764706 0.91764706 ... 0.92156863 0.92156863 0.91764706]\n",
      "  ...\n",
      "  [0.34901961 0.14509804 0.04313725 ... 0.70196078 0.75686275 0.78823529]\n",
      "  [0.32156863 0.14117647 0.08627451 ... 0.71764706 0.76862745 0.78431373]\n",
      "  [0.3254902  0.18823529 0.14901961 ... 0.69803922 0.74901961 0.78039216]]], Predicted=[9.3076366e-04 8.7679279e-01 4.2831474e-10 1.8900215e-10 1.2860439e-10\n",
      " 1.6891207e-12 5.4577459e-10 1.8203340e-12 1.2188146e-01 3.9494241e-04]\n",
      "X=[[[0.61960784 0.61960784 0.54509804 ... 0.89411765 0.92941176 0.93333333]\n",
      "  [0.66666667 0.6745098  0.59215686 ... 0.90980392 0.96470588 0.96470588]\n",
      "  [0.68235294 0.69019608 0.61568627 ... 0.90196078 0.98039216 0.96078431]\n",
      "  ...\n",
      "  [0.12156863 0.11764706 0.10196078 ... 0.14509804 0.03529412 0.01568627]\n",
      "  [0.09019608 0.10588235 0.09803922 ... 0.0745098  0.01568627 0.01960784]\n",
      "  [0.10980392 0.11764706 0.1254902  ... 0.01960784 0.01568627 0.02745098]]\n",
      "\n",
      " [[0.74509804 0.73333333 0.65098039 ... 0.90588235 0.9372549  0.94509804]\n",
      "  [0.78431373 0.78039216 0.69019608 ... 0.90980392 0.96470588 0.96862745]\n",
      "  [0.78823529 0.78431373 0.70196078 ... 0.89803922 0.97647059 0.95686275]\n",
      "  ...\n",
      "  [0.15686275 0.15294118 0.1372549  ... 0.15686275 0.05098039 0.02745098]\n",
      "  [0.13333333 0.14901961 0.14117647 ... 0.07843137 0.02352941 0.02745098]\n",
      "  [0.16078431 0.16862745 0.17647059 ... 0.02352941 0.01960784 0.03137255]]\n",
      "\n",
      " [[0.87058824 0.85490196 0.76078431 ... 0.91764706 0.95294118 0.96470588]\n",
      "  [0.89803922 0.88627451 0.78823529 ... 0.9254902  0.98039216 0.98431373]\n",
      "  [0.88235294 0.87058824 0.78039216 ... 0.90980392 0.98431373 0.96862745]\n",
      "  ...\n",
      "  [0.17647059 0.17254902 0.15686275 ... 0.18039216 0.05490196 0.01960784]\n",
      "  [0.15294118 0.16862745 0.16078431 ... 0.09411765 0.01176471 0.01176471]\n",
      "  [0.18431373 0.19607843 0.20392157 ... 0.03137255 0.01176471 0.02745098]]], Predicted=[2.4462025e-01 3.8768894e-03 1.4698574e-03 1.1696010e-03 6.3436892e-04\n",
      " 6.2522333e-05 2.2622937e-05 8.4203202e-04 7.3807019e-01 9.2317611e-03]\n",
      "X=[[[0.60784314 0.65490196 0.69019608 ... 0.78823529 0.79215686 0.75294118]\n",
      "  [0.6        0.63921569 0.67058824 ... 0.79215686 0.79607843 0.74117647]\n",
      "  [0.60784314 0.62745098 0.65882353 ... 0.80784314 0.8        0.74117647]\n",
      "  ...\n",
      "  [0.34901961 0.22352941 0.23921569 ... 0.34901961 0.23137255 0.2627451 ]\n",
      "  [0.34901961 0.23529412 0.24705882 ... 0.22352941 0.23921569 0.29411765]\n",
      "  [0.36078431 0.23529412 0.23921569 ... 0.23529412 0.25098039 0.28627451]]\n",
      "\n",
      " [[0.61176471 0.69019608 0.70196078 ... 0.76862745 0.79215686 0.71764706]\n",
      "  [0.60784314 0.70196078 0.72156863 ... 0.81568627 0.84313725 0.74509804]\n",
      "  [0.60392157 0.69803922 0.7254902  ... 0.81568627 0.84313725 0.74901961]\n",
      "  ...\n",
      "  [0.30980392 0.20784314 0.23921569 ... 0.46666667 0.30980392 0.29019608]\n",
      "  [0.32156863 0.22745098 0.25882353 ... 0.25882353 0.25098039 0.27058824]\n",
      "  [0.30588235 0.20392157 0.22745098 ... 0.24705882 0.25490196 0.26666667]]\n",
      "\n",
      " [[0.58431373 0.73333333 0.75686275 ... 0.81960784 0.83137255 0.67058824]\n",
      "  [0.61568627 0.8        0.84313725 ... 0.87058824 0.89019608 0.71764706]\n",
      "  [0.6        0.78823529 0.83529412 ... 0.84313725 0.87843137 0.72156863]\n",
      "  ...\n",
      "  [0.24313725 0.20392157 0.23137255 ... 0.39607843 0.24313725 0.19607843]\n",
      "  [0.24313725 0.20784314 0.22745098 ... 0.22745098 0.21176471 0.2       ]\n",
      "  [0.25098039 0.2        0.2        ... 0.19607843 0.20392157 0.19607843]]], Predicted=[6.7046160e-01 3.4390180e-03 2.6136723e-01 6.9458649e-04 9.9338191e-03\n",
      " 1.3544915e-05 9.7016251e-05 9.7574739e-05 5.0199125e-02 3.6965029e-03]\n"
     ]
    }
   ],
   "source": [
    "# new instances where we do not know the answer\n",
    "\n",
    "#Xnew = scalar.transform(Xnew)\n",
    "# make a prediction\n",
    "ynew = model.predict_proba(Xnew)\n",
    "# show the inputs and predicted outputs\n",
    "for i in range(len(Xnew)):\n",
    "    print(\"X=%s, Predicted=%s\" % (Xnew[i], ynew[i]))"
   ]
  },
  {
   "cell_type": "code",
   "execution_count": null,
   "metadata": {},
   "outputs": [],
   "source": []
  }
 ],
 "metadata": {
  "kernelspec": {
   "display_name": "Python 3",
   "language": "python",
   "name": "python3"
  },
  "language_info": {
   "codemirror_mode": {
    "name": "ipython",
    "version": 3
   },
   "file_extension": ".py",
   "mimetype": "text/x-python",
   "name": "python",
   "nbconvert_exporter": "python",
   "pygments_lexer": "ipython3",
   "version": "3.6.5"
  }
 },
 "nbformat": 4,
 "nbformat_minor": 2
}
